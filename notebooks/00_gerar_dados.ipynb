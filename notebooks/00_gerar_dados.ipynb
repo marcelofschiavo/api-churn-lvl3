{
 "cells": [
  {
   "cell_type": "code",
   "execution_count": 1,
   "id": "40ed7270",
   "metadata": {},
   "outputs": [
    {
     "name": "stdout",
     "output_type": "stream",
     "text": [
      "--- Criando os 3 DataFrames bagunçados ---\n",
      "Criando 'funcionarios.csv'...\n",
      "Criando 'logs_acesso.csv'...\n",
      "Criando 'chamados_suporte.csv'...\n",
      "\n",
      "--- Prontinho! ---\n",
      "Seus 3 arquivos CSV estão na pasta 'data/'\n"
     ]
    }
   ],
   "source": [
    "# Célula para EXECUTAR UMA VEZ no seu Jupyter Lab (dentro de notebooks/)\n",
    "\n",
    "import pandas as pd\n",
    "import numpy as np\n",
    "import datetime\n",
    "import os\n",
    "\n",
    "print(\"--- Criando os 3 DataFrames bagunçados ---\")\n",
    "\n",
    "# --- 1. Tabela de Funcionários (Fonte do RH) ---\n",
    "print(\"Criando 'funcionarios.csv'...\")\n",
    "np.random.seed(42)\n",
    "ids_func = range(1, 101)\n",
    "data_rh = {\n",
    "    'id_funcionario': ids_func,\n",
    "    'nome': [f'Funcionario_{i}' for i in ids_func],\n",
    "    'departamento': np.random.choice(['Vendas', 'TI', 'Marketing'], 100),\n",
    "    'salario_mensal': [np.random.choice([np.nan, 3000, 4500, 6000, 8000]) for _ in ids_func],\n",
    "    'data_contratacao': [datetime.date(2022, 1, 1) + datetime.timedelta(days=int(d)) for d in np.random.randint(1, 365*2, 100)],\n",
    "    'status': np.random.choice(['Ativo', 'Ativo', 'Ativo', 'Inativo (Saiu)'], 100, p=[0.25, 0.25, 0.25, 0.25])\n",
    "}\n",
    "df_rh = pd.DataFrame(data_rh)\n",
    "# Salva na pasta de DADOS\n",
    "df_rh.to_csv('../data/funcionarios.csv', index=False)\n",
    "\n",
    "\n",
    "# --- 2. Tabela de Logs de Uso (Fonte do TI) ---\n",
    "print(\"Criando 'logs_acesso.csv'...\")\n",
    "log_data = []\n",
    "today = datetime.date(2025, 10, 30)\n",
    "for i in ids_func:\n",
    "    if df_rh.loc[df_rh['id_funcionario'] == i, 'status'].values[0] == 'Inativo (Saiu)':\n",
    "        dias_desde_ultimo_login = np.random.randint(90, 365)\n",
    "    else:\n",
    "        dias_desde_ultimo_login = np.random.randint(1, 30)\n",
    "    num_logs = np.random.randint(5, 50)\n",
    "    for _ in range(num_logs):\n",
    "        log_data.append({\n",
    "            'user_id': i,\n",
    "            'data_acesso': today - datetime.timedelta(days=dias_desde_ultimo_login + np.random.randint(0, 60)),\n",
    "            'tempo_logado_min': np.random.randint(10, 120)\n",
    "        })\n",
    "df_logs = pd.DataFrame(log_data)\n",
    "df_logs.to_csv('../data/logs_acesso.csv', index=False)\n",
    "\n",
    "\n",
    "# --- 3. Tabela de Suporte (Fonte do Atendimento) ---\n",
    "print(\"Criando 'chamados_suporte.csv'...\")\n",
    "suporte_data = []\n",
    "for i in ids_func:\n",
    "    if df_rh.loc[df_rh['id_funcionario'] == i, 'status'].values[0] == 'Inativo (Saiu)':\n",
    "        num_chamados = np.random.randint(5, 15)\n",
    "    else:\n",
    "        num_chamados = np.random.randint(0, 5)\n",
    "    for _ in range(num_chamados):\n",
    "        suporte_data.append({\n",
    "            'id_func': i,\n",
    "            'data_chamado': today - datetime.timedelta(days=np.random.randint(1, 365)),\n",
    "            'prioridade': np.random.choice(['Baixa', 'Media', 'Alta'])\n",
    "        })\n",
    "df_suporte = pd.DataFrame(suporte_data)\n",
    "df_suporte.to_csv('../data/chamados_suporte.csv', index=False)\n",
    "\n",
    "print(\"\\n--- Prontinho! ---\")\n",
    "print(\"Seus 3 arquivos CSV estão na pasta 'data/'\")"
   ]
  }
 ],
 "metadata": {
  "kernelspec": {
   "display_name": ".venv",
   "language": "python",
   "name": "python3"
  },
  "language_info": {
   "codemirror_mode": {
    "name": "ipython",
    "version": 3
   },
   "file_extension": ".py",
   "mimetype": "text/x-python",
   "name": "python",
   "nbconvert_exporter": "python",
   "pygments_lexer": "ipython3",
   "version": "3.13.3"
  }
 },
 "nbformat": 4,
 "nbformat_minor": 5
}
